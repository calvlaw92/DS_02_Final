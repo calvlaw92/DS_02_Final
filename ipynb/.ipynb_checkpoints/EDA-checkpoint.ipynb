{
 "cells": [
  {
   "cell_type": "code",
   "execution_count": 2,
   "metadata": {},
   "outputs": [
    {
     "name": "stderr",
     "output_type": "stream",
     "text": [
      "Updating HTML index of packages in '.Library'\n",
      "Making 'packages.html' ... done\n"
     ]
    }
   ],
   "source": [
    "install.packages('moments')\n",
    "library(dplyr, warn.conflicts = FALSE)\n",
    "library(repr)\n",
    "options(repr.plot.width=12, repr.plot.height=6)\n",
    "library(moments)\n",
    "library(ggplot2)\n",
    "library(reshape2)\n",
    "source('../src/load_data.r')\n",
    "source('../src/multiplot.r')"
   ]
  },
  {
   "cell_type": "code",
   "execution_count": 3,
   "metadata": {},
   "outputs": [],
   "source": [
    "train <- read.csv('../data/train.csv', stringsAsFactors = F)\n",
    "test <- read.csv(\"../data/test.csv\", stringsAsFactors = F)"
   ]
  },
  {
   "cell_type": "code",
   "execution_count": 55,
   "metadata": {},
   "outputs": [
    {
     "data": {
      "text/html": [
       "<ol class=list-inline>\n",
       "\t<li>1451</li>\n",
       "\t<li>80</li>\n",
       "</ol>\n"
      ],
      "text/latex": [
       "\\begin{enumerate*}\n",
       "\\item 1451\n",
       "\\item 80\n",
       "\\end{enumerate*}\n"
      ],
      "text/markdown": [
       "1. 1451\n",
       "2. 80\n",
       "\n",
       "\n"
      ],
      "text/plain": [
       "[1] 1451   80"
      ]
     },
     "metadata": {},
     "output_type": "display_data"
    }
   ],
   "source": [
    "dim(housing_df)"
   ]
  },
  {
   "cell_type": "code",
   "execution_count": 56,
   "metadata": {},
   "outputs": [
    {
     "data": {
      "text/html": [
       "<table>\n",
       "<thead><tr><th></th><th scope=col>MSSubClass</th><th scope=col>MSZoning</th><th scope=col>LotFrontage</th><th scope=col>LotArea</th><th scope=col>LotShape</th><th scope=col>LandContour</th><th scope=col>Utilities</th><th scope=col>LotConfig</th><th scope=col>LandSlope</th><th scope=col>Neighborhood</th><th scope=col>⋯</th><th scope=col>PoolArea</th><th scope=col>PoolQC</th><th scope=col>Fence</th><th scope=col>MiscFeature</th><th scope=col>MiscVal</th><th scope=col>MoSold</th><th scope=col>YrSold</th><th scope=col>SaleType</th><th scope=col>SaleCondition</th><th scope=col>SalePrice</th></tr></thead>\n",
       "<tbody>\n",
       "\t<tr><th scope=row>1190</th><td>60      </td><td>RL      </td><td>60.00000</td><td> 7500   </td><td>Reg     </td><td>Lvl     </td><td>AllPub  </td><td>Inside  </td><td>Gtl     </td><td>Gilbert </td><td>⋯       </td><td>0       </td><td>without </td><td>without </td><td>without </td><td>0       </td><td>6       </td><td>2010    </td><td>WD      </td><td>Normal  </td><td>189000  </td></tr>\n",
       "\t<tr><th scope=row>508</th><td>20      </td><td>FV      </td><td>75.00000</td><td> 7862   </td><td>IR1     </td><td>Lvl     </td><td>AllPub  </td><td>Inside  </td><td>Gtl     </td><td>Somerst </td><td>⋯       </td><td>0       </td><td>without </td><td>without </td><td>without </td><td>0       </td><td>9       </td><td>2009    </td><td>New     </td><td>Partial </td><td>208300  </td></tr>\n",
       "\t<tr><th scope=row>661</th><td>60      </td><td>RL      </td><td>70.04996</td><td>12384   </td><td>Reg     </td><td>Lvl     </td><td>AllPub  </td><td>CulDSac </td><td>Gtl     </td><td>NWAmes  </td><td>⋯       </td><td>0       </td><td>without </td><td>without </td><td>without </td><td>0       </td><td>11      </td><td>2007    </td><td>WD      </td><td>Normal  </td><td>197900  </td></tr>\n",
       "\t<tr><th scope=row>1014</th><td>30      </td><td>RM      </td><td>60.00000</td><td> 7200   </td><td>Reg     </td><td>Lvl     </td><td>AllPub  </td><td>Inside  </td><td>Gtl     </td><td>OldTown </td><td>⋯       </td><td>0       </td><td>without </td><td>without </td><td>without </td><td>0       </td><td>6       </td><td>2009    </td><td>WD      </td><td>Normal  </td><td> 85000  </td></tr>\n",
       "\t<tr><th scope=row>1109</th><td>60      </td><td>RL      </td><td>70.04996</td><td> 8063   </td><td>Reg     </td><td>Lvl     </td><td>AllPub  </td><td>Inside  </td><td>Gtl     </td><td>Gilbert </td><td>⋯       </td><td>0       </td><td>without </td><td>without </td><td>without </td><td>0       </td><td>11      </td><td>2007    </td><td>WD      </td><td>Abnorml </td><td>181000  </td></tr>\n",
       "</tbody>\n",
       "</table>\n"
      ],
      "text/latex": [
       "\\begin{tabular}{r|llllllllllllllllllllllllllllllllllllllllllllllllllllllllllllllllllllllllllllllll}\n",
       "  & MSSubClass & MSZoning & LotFrontage & LotArea & LotShape & LandContour & Utilities & LotConfig & LandSlope & Neighborhood & ⋯ & PoolArea & PoolQC & Fence & MiscFeature & MiscVal & MoSold & YrSold & SaleType & SaleCondition & SalePrice\\\\\n",
       "\\hline\n",
       "\t1190 & 60       & RL       & 60.00000 &  7500    & Reg      & Lvl      & AllPub   & Inside   & Gtl      & Gilbert  & ⋯        & 0        & without  & without  & without  & 0        & 6        & 2010     & WD       & Normal   & 189000  \\\\\n",
       "\t508 & 20       & FV       & 75.00000 &  7862    & IR1      & Lvl      & AllPub   & Inside   & Gtl      & Somerst  & ⋯        & 0        & without  & without  & without  & 0        & 9        & 2009     & New      & Partial  & 208300  \\\\\n",
       "\t661 & 60       & RL       & 70.04996 & 12384    & Reg      & Lvl      & AllPub   & CulDSac  & Gtl      & NWAmes   & ⋯        & 0        & without  & without  & without  & 0        & 11       & 2007     & WD       & Normal   & 197900  \\\\\n",
       "\t1014 & 30       & RM       & 60.00000 &  7200    & Reg      & Lvl      & AllPub   & Inside   & Gtl      & OldTown  & ⋯        & 0        & without  & without  & without  & 0        & 6        & 2009     & WD       & Normal   &  85000  \\\\\n",
       "\t1109 & 60       & RL       & 70.04996 &  8063    & Reg      & Lvl      & AllPub   & Inside   & Gtl      & Gilbert  & ⋯        & 0        & without  & without  & without  & 0        & 11       & 2007     & WD       & Abnorml  & 181000  \\\\\n",
       "\\end{tabular}\n"
      ],
      "text/markdown": [
       "\n",
       "| <!--/--> | MSSubClass | MSZoning | LotFrontage | LotArea | LotShape | LandContour | Utilities | LotConfig | LandSlope | Neighborhood | ⋯ | PoolArea | PoolQC | Fence | MiscFeature | MiscVal | MoSold | YrSold | SaleType | SaleCondition | SalePrice | \n",
       "|---|---|---|---|---|\n",
       "| 1190 | 60       | RL       | 60.00000 |  7500    | Reg      | Lvl      | AllPub   | Inside   | Gtl      | Gilbert  | ⋯        | 0        | without  | without  | without  | 0        | 6        | 2010     | WD       | Normal   | 189000   | \n",
       "| 508 | 20       | FV       | 75.00000 |  7862    | IR1      | Lvl      | AllPub   | Inside   | Gtl      | Somerst  | ⋯        | 0        | without  | without  | without  | 0        | 9        | 2009     | New      | Partial  | 208300   | \n",
       "| 661 | 60       | RL       | 70.04996 | 12384    | Reg      | Lvl      | AllPub   | CulDSac  | Gtl      | NWAmes   | ⋯        | 0        | without  | without  | without  | 0        | 11       | 2007     | WD       | Normal   | 197900   | \n",
       "| 1014 | 30       | RM       | 60.00000 |  7200    | Reg      | Lvl      | AllPub   | Inside   | Gtl      | OldTown  | ⋯        | 0        | without  | without  | without  | 0        | 6        | 2009     | WD       | Normal   |  85000   | \n",
       "| 1109 | 60       | RL       | 70.04996 |  8063    | Reg      | Lvl      | AllPub   | Inside   | Gtl      | Gilbert  | ⋯        | 0        | without  | without  | without  | 0        | 11       | 2007     | WD       | Abnorml  | 181000   | \n",
       "\n",
       "\n"
      ],
      "text/plain": [
       "     MSSubClass MSZoning LotFrontage LotArea LotShape LandContour Utilities\n",
       "1190 60         RL       60.00000     7500   Reg      Lvl         AllPub   \n",
       "508  20         FV       75.00000     7862   IR1      Lvl         AllPub   \n",
       "661  60         RL       70.04996    12384   Reg      Lvl         AllPub   \n",
       "1014 30         RM       60.00000     7200   Reg      Lvl         AllPub   \n",
       "1109 60         RL       70.04996     8063   Reg      Lvl         AllPub   \n",
       "     LotConfig LandSlope Neighborhood ⋯ PoolArea PoolQC  Fence   MiscFeature\n",
       "1190 Inside    Gtl       Gilbert      ⋯ 0        without without without    \n",
       "508  Inside    Gtl       Somerst      ⋯ 0        without without without    \n",
       "661  CulDSac   Gtl       NWAmes       ⋯ 0        without without without    \n",
       "1014 Inside    Gtl       OldTown      ⋯ 0        without without without    \n",
       "1109 Inside    Gtl       Gilbert      ⋯ 0        without without without    \n",
       "     MiscVal MoSold YrSold SaleType SaleCondition SalePrice\n",
       "1190 0       6      2010   WD       Normal        189000   \n",
       "508  0       9      2009   New      Partial       208300   \n",
       "661  0       11     2007   WD       Normal        197900   \n",
       "1014 0       6      2009   WD       Normal         85000   \n",
       "1109 0       11     2007   WD       Abnorml       181000   "
      ]
     },
     "metadata": {},
     "output_type": "display_data"
    }
   ],
   "source": [
    "sample = sample_n(housing_df, 5)\n",
    "sample"
   ]
  },
  {
   "cell_type": "code",
   "execution_count": 49,
   "metadata": {},
   "outputs": [
    {
     "name": "stdout",
     "output_type": "stream",
     "text": [
      "'data.frame':\t1460 obs. of  81 variables:\n",
      " $ Id           : int  1 2 3 4 5 6 7 8 9 10 ...\n",
      " $ MSSubClass   : int  60 20 60 70 60 50 20 60 50 190 ...\n",
      " $ MSZoning     : chr  \"RL\" \"RL\" \"RL\" \"RL\" ...\n",
      " $ LotFrontage  : int  65 80 68 60 84 85 75 NA 51 50 ...\n",
      " $ LotArea      : int  8450 9600 11250 9550 14260 14115 10084 10382 6120 7420 ...\n",
      " $ Street       : chr  \"Pave\" \"Pave\" \"Pave\" \"Pave\" ...\n",
      " $ Alley        : chr  NA NA NA NA ...\n",
      " $ LotShape     : chr  \"Reg\" \"Reg\" \"IR1\" \"IR1\" ...\n",
      " $ LandContour  : chr  \"Lvl\" \"Lvl\" \"Lvl\" \"Lvl\" ...\n",
      " $ Utilities    : chr  \"AllPub\" \"AllPub\" \"AllPub\" \"AllPub\" ...\n",
      " $ LotConfig    : chr  \"Inside\" \"FR2\" \"Inside\" \"Corner\" ...\n",
      " $ LandSlope    : chr  \"Gtl\" \"Gtl\" \"Gtl\" \"Gtl\" ...\n",
      " $ Neighborhood : chr  \"CollgCr\" \"Veenker\" \"CollgCr\" \"Crawfor\" ...\n",
      " $ Condition1   : chr  \"Norm\" \"Feedr\" \"Norm\" \"Norm\" ...\n",
      " $ Condition2   : chr  \"Norm\" \"Norm\" \"Norm\" \"Norm\" ...\n",
      " $ BldgType     : chr  \"1Fam\" \"1Fam\" \"1Fam\" \"1Fam\" ...\n",
      " $ HouseStyle   : chr  \"2Story\" \"1Story\" \"2Story\" \"2Story\" ...\n",
      " $ OverallQual  : int  7 6 7 7 8 5 8 7 7 5 ...\n",
      " $ OverallCond  : int  5 8 5 5 5 5 5 6 5 6 ...\n",
      " $ YearBuilt    : int  2003 1976 2001 1915 2000 1993 2004 1973 1931 1939 ...\n",
      " $ YearRemodAdd : int  2003 1976 2002 1970 2000 1995 2005 1973 1950 1950 ...\n",
      " $ RoofStyle    : chr  \"Gable\" \"Gable\" \"Gable\" \"Gable\" ...\n",
      " $ RoofMatl     : chr  \"CompShg\" \"CompShg\" \"CompShg\" \"CompShg\" ...\n",
      " $ Exterior1st  : chr  \"VinylSd\" \"MetalSd\" \"VinylSd\" \"Wd Sdng\" ...\n",
      " $ Exterior2nd  : chr  \"VinylSd\" \"MetalSd\" \"VinylSd\" \"Wd Shng\" ...\n",
      " $ MasVnrType   : chr  \"BrkFace\" \"None\" \"BrkFace\" \"None\" ...\n",
      " $ MasVnrArea   : int  196 0 162 0 350 0 186 240 0 0 ...\n",
      " $ ExterQual    : chr  \"Gd\" \"TA\" \"Gd\" \"TA\" ...\n",
      " $ ExterCond    : chr  \"TA\" \"TA\" \"TA\" \"TA\" ...\n",
      " $ Foundation   : chr  \"PConc\" \"CBlock\" \"PConc\" \"BrkTil\" ...\n",
      " $ BsmtQual     : chr  \"Gd\" \"Gd\" \"Gd\" \"TA\" ...\n",
      " $ BsmtCond     : chr  \"TA\" \"TA\" \"TA\" \"Gd\" ...\n",
      " $ BsmtExposure : chr  \"No\" \"Gd\" \"Mn\" \"No\" ...\n",
      " $ BsmtFinType1 : chr  \"GLQ\" \"ALQ\" \"GLQ\" \"ALQ\" ...\n",
      " $ BsmtFinSF1   : int  706 978 486 216 655 732 1369 859 0 851 ...\n",
      " $ BsmtFinType2 : chr  \"Unf\" \"Unf\" \"Unf\" \"Unf\" ...\n",
      " $ BsmtFinSF2   : int  0 0 0 0 0 0 0 32 0 0 ...\n",
      " $ BsmtUnfSF    : int  150 284 434 540 490 64 317 216 952 140 ...\n",
      " $ TotalBsmtSF  : int  856 1262 920 756 1145 796 1686 1107 952 991 ...\n",
      " $ Heating      : chr  \"GasA\" \"GasA\" \"GasA\" \"GasA\" ...\n",
      " $ HeatingQC    : chr  \"Ex\" \"Ex\" \"Ex\" \"Gd\" ...\n",
      " $ CentralAir   : chr  \"Y\" \"Y\" \"Y\" \"Y\" ...\n",
      " $ Electrical   : chr  \"SBrkr\" \"SBrkr\" \"SBrkr\" \"SBrkr\" ...\n",
      " $ X1stFlrSF    : int  856 1262 920 961 1145 796 1694 1107 1022 1077 ...\n",
      " $ X2ndFlrSF    : int  854 0 866 756 1053 566 0 983 752 0 ...\n",
      " $ LowQualFinSF : int  0 0 0 0 0 0 0 0 0 0 ...\n",
      " $ GrLivArea    : int  1710 1262 1786 1717 2198 1362 1694 2090 1774 1077 ...\n",
      " $ BsmtFullBath : int  1 0 1 1 1 1 1 1 0 1 ...\n",
      " $ BsmtHalfBath : int  0 1 0 0 0 0 0 0 0 0 ...\n",
      " $ FullBath     : int  2 2 2 1 2 1 2 2 2 1 ...\n",
      " $ HalfBath     : int  1 0 1 0 1 1 0 1 0 0 ...\n",
      " $ BedroomAbvGr : int  3 3 3 3 4 1 3 3 2 2 ...\n",
      " $ KitchenAbvGr : int  1 1 1 1 1 1 1 1 2 2 ...\n",
      " $ KitchenQual  : chr  \"Gd\" \"TA\" \"Gd\" \"Gd\" ...\n",
      " $ TotRmsAbvGrd : int  8 6 6 7 9 5 7 7 8 5 ...\n",
      " $ Functional   : chr  \"Typ\" \"Typ\" \"Typ\" \"Typ\" ...\n",
      " $ Fireplaces   : int  0 1 1 1 1 0 1 2 2 2 ...\n",
      " $ FireplaceQu  : chr  NA \"TA\" \"TA\" \"Gd\" ...\n",
      " $ GarageType   : chr  \"Attchd\" \"Attchd\" \"Attchd\" \"Detchd\" ...\n",
      " $ GarageYrBlt  : int  2003 1976 2001 1998 2000 1993 2004 1973 1931 1939 ...\n",
      " $ GarageFinish : chr  \"RFn\" \"RFn\" \"RFn\" \"Unf\" ...\n",
      " $ GarageCars   : int  2 2 2 3 3 2 2 2 2 1 ...\n",
      " $ GarageArea   : int  548 460 608 642 836 480 636 484 468 205 ...\n",
      " $ GarageQual   : chr  \"TA\" \"TA\" \"TA\" \"TA\" ...\n",
      " $ GarageCond   : chr  \"TA\" \"TA\" \"TA\" \"TA\" ...\n",
      " $ PavedDrive   : chr  \"Y\" \"Y\" \"Y\" \"Y\" ...\n",
      " $ WoodDeckSF   : int  0 298 0 0 192 40 255 235 90 0 ...\n",
      " $ OpenPorchSF  : int  61 0 42 35 84 30 57 204 0 4 ...\n",
      " $ EnclosedPorch: int  0 0 0 272 0 0 0 228 205 0 ...\n",
      " $ X3SsnPorch   : int  0 0 0 0 0 320 0 0 0 0 ...\n",
      " $ ScreenPorch  : int  0 0 0 0 0 0 0 0 0 0 ...\n",
      " $ PoolArea     : int  0 0 0 0 0 0 0 0 0 0 ...\n",
      " $ PoolQC       : chr  NA NA NA NA ...\n",
      " $ Fence        : chr  NA NA NA NA ...\n",
      " $ MiscFeature  : chr  NA NA NA NA ...\n",
      " $ MiscVal      : int  0 0 0 0 0 700 0 350 0 0 ...\n",
      " $ MoSold       : int  2 5 9 2 12 10 8 11 4 1 ...\n",
      " $ YrSold       : int  2008 2007 2008 2006 2008 2009 2007 2009 2008 2008 ...\n",
      " $ SaleType     : chr  \"WD\" \"WD\" \"WD\" \"WD\" ...\n",
      " $ SaleCondition: chr  \"Normal\" \"Normal\" \"Normal\" \"Abnorml\" ...\n",
      " $ SalePrice    : int  208500 181500 223500 140000 250000 143000 307000 200000 129900 118000 ...\n"
     ]
    }
   ],
   "source": [
    "str(train)"
   ]
  },
  {
   "cell_type": "code",
   "execution_count": 50,
   "metadata": {},
   "outputs": [],
   "source": [
    "test_labels <- test$Id\n",
    "test$Id <- NULL\n",
    "train$Id <- NULL\n",
    "test$SalePrice <- NA\n",
    "ames_df <- rbind(train, test)"
   ]
  },
  {
   "cell_type": "code",
   "execution_count": 51,
   "metadata": {},
   "outputs": [
    {
     "data": {
      "text/html": [
       "<ol class=list-inline>\n",
       "\t<li>2919</li>\n",
       "\t<li>80</li>\n",
       "</ol>\n"
      ],
      "text/latex": [
       "\\begin{enumerate*}\n",
       "\\item 2919\n",
       "\\item 80\n",
       "\\end{enumerate*}\n"
      ],
      "text/markdown": [
       "1. 2919\n",
       "2. 80\n",
       "\n",
       "\n"
      ],
      "text/plain": [
       "[1] 2919   80"
      ]
     },
     "metadata": {},
     "output_type": "display_data"
    }
   ],
   "source": [
    "dim(ames_df)"
   ]
  },
  {
   "cell_type": "code",
   "execution_count": 1,
   "metadata": {},
   "outputs": [
    {
     "ename": "ERROR",
     "evalue": "Error in summary(ames_df$SalePrice): object 'ames_df' not found\n",
     "execution_count": 1,
     "output_type": "error",
     "traceback": [
      "Error in summary(ames_df$SalePrice): object 'ames_df' not found\nTraceback:\n",
      "1. summary(ames_df$SalePrice)"
     ]
    }
   ],
   "source": [
    "summary(ames_df$SalePrice)"
   ]
  },
  {
   "cell_type": "code",
   "execution_count": 54,
   "metadata": {},
   "outputs": [
    {
     "data": {
      "image/png": "[encoded data removed]",
      "text/plain": [
       "Plot with title “Histogram of housing_df$SalePrice”"
      ]
     },
     "metadata": {},
     "output_type": "display_data",
     "source": "R display func"
    }
   ],
   "source": [
    "hist(housing_df$SalePrice, freq = T)\n",
    "lines(density(housing_df$SalePrice))\n",
    "abline(v = mean(housing_df$SalePrice),\n",
    " col = \"royalblue\",\n",
    " lwd = 2)\n",
    "abline(v = median(housing_df$SalePrice),\n",
    " col = \"red\",\n",
    " lwd = 2)\n"
   ]
  },
  {
   "cell_type": "code",
   "execution_count": null,
   "metadata": {},
   "outputs": [],
   "source": [
    "str(numeric_df)"
   ]
  },
  {
   "cell_type": "code",
   "execution_count": null,
   "metadata": {},
   "outputs": [],
   "source": []
  }
 ],
 "metadata": {
  "kernelspec": {
   "display_name": "R",
   "language": "R",
   "name": "ir"
  },
  "language_info": {
   "codemirror_mode": "r",
   "file_extension": ".r",
   "mimetype": "text/x-r-source",
   "name": "R",
   "pygments_lexer": "r",
   "version": "3.4.1"
  }
 },
 "nbformat": 4,
 "nbformat_minor": 2
}
